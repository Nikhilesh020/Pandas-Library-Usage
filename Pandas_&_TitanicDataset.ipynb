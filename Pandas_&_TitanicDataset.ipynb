{
 "cells": [
  {
   "cell_type": "markdown",
   "id": "a4da25f1-17b2-4bfd-875c-ae6c1f2cf6c6",
   "metadata": {},
   "source": [
    "## Pandas Library Usage"
   ]
  },
  {
   "cell_type": "code",
   "execution_count": 1,
   "id": "d9798e75-ce2f-4a95-be39-ad62fd1d2533",
   "metadata": {},
   "outputs": [],
   "source": [
    "import pandas as pd"
   ]
  },
  {
   "cell_type": "markdown",
   "id": "31d0ed75-f081-4694-9dc3-54308b18bcf9",
   "metadata": {},
   "source": [
    "Problem Statement\n",
    "1. Number of total passengers\n",
    "2. Number of unique peoples (Remove duplicates)\n",
    "3. Numbers of passenger survived and died, also its percentage\n",
    "4. Numbers of passengers survived and died by means of group by sex, also its percentage\n",
    "5. Number of passenger died as per each Pclass\n",
    "6. Rearrange Name column in format \"FirstName LastName\", no comma\n",
    "7. Number of total male and female passengers\n",
    "8. Number of total male and femal passengers survived, also its percentage\n",
    "9. Total fare bare by all passengers\n",
    "10. Total fare distribution as per Pclass\n",
    "11. Number of passenger survived and died as per each Pclass,Sex, also its percentage\n",
    "12. Number of null values in each columns\n",
    "13. New Dataframe with Cabin and allocated passenger name detail (i.e col1: Cabin ; col2: Name)\n",
    "14. Passengers with age below 18"
   ]
  },
  {
   "cell_type": "code",
   "execution_count": 2,
   "id": "ea5cd1e1-c3c5-4a6a-948a-7fb27262a969",
   "metadata": {},
   "outputs": [
    {
     "name": "stdout",
     "output_type": "stream",
     "text": [
      "(891, 12)\n",
      "891\n"
     ]
    },
    {
     "data": {
      "text/html": [
       "<div>\n",
       "<style scoped>\n",
       "    .dataframe tbody tr th:only-of-type {\n",
       "        vertical-align: middle;\n",
       "    }\n",
       "\n",
       "    .dataframe tbody tr th {\n",
       "        vertical-align: top;\n",
       "    }\n",
       "\n",
       "    .dataframe thead th {\n",
       "        text-align: right;\n",
       "    }\n",
       "</style>\n",
       "<table border=\"1\" class=\"dataframe\">\n",
       "  <thead>\n",
       "    <tr style=\"text-align: right;\">\n",
       "      <th></th>\n",
       "      <th>PassengerId</th>\n",
       "      <th>Survived</th>\n",
       "      <th>Pclass</th>\n",
       "      <th>Name</th>\n",
       "      <th>Sex</th>\n",
       "      <th>Age</th>\n",
       "      <th>SibSp</th>\n",
       "      <th>Parch</th>\n",
       "      <th>Ticket</th>\n",
       "      <th>Fare</th>\n",
       "      <th>Cabin</th>\n",
       "      <th>Embarked</th>\n",
       "    </tr>\n",
       "  </thead>\n",
       "  <tbody>\n",
       "    <tr>\n",
       "      <th>0</th>\n",
       "      <td>1</td>\n",
       "      <td>0</td>\n",
       "      <td>3</td>\n",
       "      <td>Braund, Mr. Owen Harris</td>\n",
       "      <td>male</td>\n",
       "      <td>22.0</td>\n",
       "      <td>1</td>\n",
       "      <td>0</td>\n",
       "      <td>A/5 21171</td>\n",
       "      <td>7.2500</td>\n",
       "      <td>NaN</td>\n",
       "      <td>S</td>\n",
       "    </tr>\n",
       "    <tr>\n",
       "      <th>1</th>\n",
       "      <td>2</td>\n",
       "      <td>1</td>\n",
       "      <td>1</td>\n",
       "      <td>Cumings, Mrs. John Bradley (Florence Briggs Th...</td>\n",
       "      <td>female</td>\n",
       "      <td>38.0</td>\n",
       "      <td>1</td>\n",
       "      <td>0</td>\n",
       "      <td>PC 17599</td>\n",
       "      <td>71.2833</td>\n",
       "      <td>C85</td>\n",
       "      <td>C</td>\n",
       "    </tr>\n",
       "    <tr>\n",
       "      <th>2</th>\n",
       "      <td>3</td>\n",
       "      <td>1</td>\n",
       "      <td>3</td>\n",
       "      <td>Heikkinen, Miss. Laina</td>\n",
       "      <td>female</td>\n",
       "      <td>26.0</td>\n",
       "      <td>0</td>\n",
       "      <td>0</td>\n",
       "      <td>STON/O2. 3101282</td>\n",
       "      <td>7.9250</td>\n",
       "      <td>NaN</td>\n",
       "      <td>S</td>\n",
       "    </tr>\n",
       "  </tbody>\n",
       "</table>\n",
       "</div>"
      ],
      "text/plain": [
       "   PassengerId  Survived  Pclass  \\\n",
       "0            1         0       3   \n",
       "1            2         1       1   \n",
       "2            3         1       3   \n",
       "\n",
       "                                                Name     Sex   Age  SibSp  \\\n",
       "0                            Braund, Mr. Owen Harris    male  22.0      1   \n",
       "1  Cumings, Mrs. John Bradley (Florence Briggs Th...  female  38.0      1   \n",
       "2                             Heikkinen, Miss. Laina  female  26.0      0   \n",
       "\n",
       "   Parch            Ticket     Fare Cabin Embarked  \n",
       "0      0         A/5 21171   7.2500   NaN        S  \n",
       "1      0          PC 17599  71.2833   C85        C  \n",
       "2      0  STON/O2. 3101282   7.9250   NaN        S  "
      ]
     },
     "execution_count": 2,
     "metadata": {},
     "output_type": "execute_result"
    }
   ],
   "source": [
    "df = pd.read_csv('./titanic.csv')\n",
    "print(df.shape)\n",
    "print(len(df))\n",
    "df.head(3)"
   ]
  },
  {
   "cell_type": "markdown",
   "id": "f6bd640c-8087-4ad6-b17d-7b9bced3c442",
   "metadata": {
    "jp-MarkdownHeadingCollapsed": true
   },
   "source": [
    "#### 1. Number of total passengers"
   ]
  },
  {
   "cell_type": "code",
   "execution_count": 3,
   "id": "72505e10-81b5-4252-ae9a-5ba8c0043e1a",
   "metadata": {},
   "outputs": [
    {
     "name": "stdout",
     "output_type": "stream",
     "text": [
      "891\n"
     ]
    }
   ],
   "source": [
    "total_passenger = df['Name'].count()\n",
    "print(total_passenger)"
   ]
  },
  {
   "cell_type": "markdown",
   "id": "700d7fbd-e6c2-4180-901e-e780df0b47dc",
   "metadata": {
    "jp-MarkdownHeadingCollapsed": true
   },
   "source": [
    "#### 2. Number of unique peoples (Remove duplicates)"
   ]
  },
  {
   "cell_type": "code",
   "execution_count": 4,
   "id": "3c0c8db4-4843-4678-84b7-1d40cbc86cfa",
   "metadata": {},
   "outputs": [
    {
     "data": {
      "text/plain": [
       "(891,)"
      ]
     },
     "execution_count": 4,
     "metadata": {},
     "output_type": "execute_result"
    }
   ],
   "source": [
    "uniq = df['Name'].drop_duplicates()\n",
    "uniq.shape\n",
    "\n",
    "## Hence, as outcome received, no passengers with identical names"
   ]
  },
  {
   "cell_type": "markdown",
   "id": "df7d7c28-775e-410a-91f4-338e76dcd2f7",
   "metadata": {
    "jp-MarkdownHeadingCollapsed": true
   },
   "source": [
    "#### 3. Numbers of passengers survived and died, also its percentage"
   ]
  },
  {
   "cell_type": "code",
   "execution_count": 5,
   "id": "93a8bac9-e056-44d1-996c-544e610cff0d",
   "metadata": {},
   "outputs": [
    {
     "name": "stdout",
     "output_type": "stream",
     "text": [
      "Survived\n",
      "0    549\n",
      "1    342\n",
      "Name: count, dtype: int64\n",
      "\n",
      "Percentage survived  38.38\n"
     ]
    }
   ],
   "source": [
    "survived = df['Survived'].value_counts()\n",
    "print(survived)\n",
    "print(\"\\nPercentage survived \",round(df['Survived'].mean()*100,2))"
   ]
  },
  {
   "cell_type": "markdown",
   "id": "3249ca77-5f46-498b-89c1-43d43d49e152",
   "metadata": {},
   "source": [
    "#### 4. Numbers of passengers survived and died by means of group by sex, also its percentage"
   ]
  },
  {
   "cell_type": "code",
   "execution_count": 6,
   "id": "e3bb7df4-04a5-4bbe-95ba-23b35abe9114",
   "metadata": {},
   "outputs": [
    {
     "name": "stdout",
     "output_type": "stream",
     "text": [
      "Sex     Survived\n",
      "female  1           233\n",
      "        0            81\n",
      "male    0           468\n",
      "        1           109\n",
      "Name: count, dtype: int64\n",
      "\n",
      "Percentage survived:\n",
      " Sex\n",
      "female    74.20\n",
      "male      18.89\n",
      "Name: Survived, dtype: float64\n"
     ]
    }
   ],
   "source": [
    "survived = df.groupby('Sex')['Survived'].value_counts()\n",
    "print(survived)\n",
    "print(\"\\nPercentage survived:\\n\", round(df.groupby('Sex')['Survived'].mean()*100,2))"
   ]
  },
  {
   "cell_type": "markdown",
   "id": "83f2b787-7bc7-478a-ad2d-471e9ae18430",
   "metadata": {},
   "source": [
    "#### 5. Number of passenger died as per each Pclass"
   ]
  },
  {
   "cell_type": "code",
   "execution_count": 7,
   "id": "6db31ae9-3e58-483e-85fa-8d8a4cb6a09e",
   "metadata": {},
   "outputs": [
    {
     "name": "stdout",
     "output_type": "stream",
     "text": [
      "Pclass\n",
      "1    37.037037\n",
      "2    52.717391\n",
      "3    75.763747\n",
      "Name: Survived, dtype: float64\n"
     ]
    }
   ],
   "source": [
    "surv = (100 - df.groupby('Pclass')['Survived'].mean()*100)\n",
    "print(surv)"
   ]
  },
  {
   "cell_type": "markdown",
   "id": "20972463-fd06-4a86-845b-5ed3f35a3fc8",
   "metadata": {},
   "source": [
    "#### 6. Rearrange Name column in format \"FirstName LastName\", no comma"
   ]
  },
  {
   "cell_type": "code",
   "execution_count": 8,
   "id": "63f5ca88-6a06-408c-abd7-2bbc055dd461",
   "metadata": {},
   "outputs": [
    {
     "data": {
      "text/plain": [
       "0                                 Mr. Owen Harris Braund\n",
       "1       Mrs. John Bradley (Florence Briggs Thayer) Cu...\n",
       "2                                  Miss. Laina Heikkinen\n",
       "3            Mrs. Jacques Heath (Lily May Peel) Futrelle\n",
       "4                                Mr. William Henry Allen\n",
       "                             ...                        \n",
       "886                                 Rev. Juozas Montvila\n",
       "887                          Miss. Margaret Edith Graham\n",
       "888              Miss. Catherine Helen \"Carrie\" Johnston\n",
       "889                                 Mr. Karl Howell Behr\n",
       "890                                   Mr. Patrick Dooley\n",
       "Name: Reversed Name, Length: 891, dtype: object"
      ]
     },
     "execution_count": 8,
     "metadata": {},
     "output_type": "execute_result"
    }
   ],
   "source": [
    "def reverse_name(name):\n",
    "    names = name.split(',')\n",
    "    return names[1] + ' ' + names[0]\n",
    "\n",
    "df['Reversed Name'] = df['Name'].apply(reverse_name)\n",
    "df['Reversed Name']"
   ]
  },
  {
   "cell_type": "markdown",
   "id": "bc099c28-a105-495c-9b00-62426ee6bbce",
   "metadata": {},
   "source": [
    "#### 7. Number of total male and female passengers"
   ]
  },
  {
   "cell_type": "code",
   "execution_count": 9,
   "id": "3d20840e-3a01-42f5-9132-da3c85c78aac",
   "metadata": {},
   "outputs": [
    {
     "data": {
      "text/plain": [
       "Sex\n",
       "male      577\n",
       "female    314\n",
       "Name: count, dtype: int64"
      ]
     },
     "execution_count": 9,
     "metadata": {},
     "output_type": "execute_result"
    }
   ],
   "source": [
    "df['Sex'].value_counts()"
   ]
  },
  {
   "cell_type": "markdown",
   "id": "60ea297a-4492-43ca-8290-0f3273ce1459",
   "metadata": {},
   "source": [
    "#### 8. Number of total male and femal passengers survived, also its percentage"
   ]
  },
  {
   "cell_type": "code",
   "execution_count": 10,
   "id": "65a593ba-090c-4eea-8c8c-4b8365579f65",
   "metadata": {},
   "outputs": [
    {
     "name": "stdout",
     "output_type": "stream",
     "text": [
      "Survived percentage as per Sex\n",
      "Sex\n",
      "female    74.203822\n",
      "male      18.890815\n",
      "Name: Survived, dtype: float64\n",
      "Died percentage as per Sex\n",
      "Sex\n",
      "female    25.796178\n",
      "male      81.109185\n",
      "Name: Survived, dtype: float64\n"
     ]
    }
   ],
   "source": [
    "sur = df.groupby('Sex')['Survived'].mean()*100\n",
    "print(\"Survived percentage as per Sex\")\n",
    "print(sur)\n",
    "died = (100-df.groupby('Sex')['Survived'].mean()*100)\n",
    "print(\"Died percentage as per Sex\")\n",
    "print(died)"
   ]
  },
  {
   "cell_type": "markdown",
   "id": "701876dd-3335-4fcb-a943-b5eea4175b22",
   "metadata": {},
   "source": [
    "#### 9. Total fare bare by all passengers"
   ]
  },
  {
   "cell_type": "code",
   "execution_count": 11,
   "id": "7284da70-6517-41fe-aed7-1a0ff30d9314",
   "metadata": {},
   "outputs": [
    {
     "data": {
      "text/plain": [
       "28693.9493"
      ]
     },
     "execution_count": 11,
     "metadata": {},
     "output_type": "execute_result"
    }
   ],
   "source": [
    "df['Fare'].sum()"
   ]
  },
  {
   "cell_type": "markdown",
   "id": "f1120f42-0fe9-413b-8352-c91867b88789",
   "metadata": {},
   "source": [
    "#### 10. Total fare distribution as per Pclass"
   ]
  },
  {
   "cell_type": "code",
   "execution_count": 12,
   "id": "ee677470-5c2b-48df-bac7-2de61e1d12d1",
   "metadata": {},
   "outputs": [
    {
     "data": {
      "text/plain": [
       "Pclass\n",
       "1    18177.4125\n",
       "2     3801.8417\n",
       "3     6714.6951\n",
       "Name: Fare, dtype: float64"
      ]
     },
     "execution_count": 12,
     "metadata": {},
     "output_type": "execute_result"
    }
   ],
   "source": [
    "df.groupby('Pclass')['Fare'].sum()"
   ]
  },
  {
   "cell_type": "markdown",
   "id": "bc0045ae-65f1-4121-8b5c-75d3284fe6ae",
   "metadata": {},
   "source": [
    "#### 11. Number of passenger survived and died as per each Pclass,Sex, also its percentage"
   ]
  },
  {
   "cell_type": "code",
   "execution_count": 13,
   "id": "379feb6a-ef18-4e3b-a2d3-7d0ca15eb2dd",
   "metadata": {},
   "outputs": [
    {
     "name": "stdout",
     "output_type": "stream",
     "text": [
      "Number of passengers survived and died as per Pclass and Sex\n",
      "Pclass  Sex     Survived\n",
      "1       female  1            91\n",
      "                0             3\n",
      "        male    0            77\n",
      "                1            45\n",
      "2       female  1            70\n",
      "                0             6\n",
      "        male    0            91\n",
      "                1            17\n",
      "3       female  0            72\n",
      "                1            72\n",
      "        male    0           300\n",
      "                1            47\n",
      "Name: count, dtype: int64\n",
      "\n",
      "Percentage of passengers survived and died as per Pclass and Sex\n",
      "Pclass  Sex   \n",
      "1       female    96.808511\n",
      "        male      36.885246\n",
      "2       female    92.105263\n",
      "        male      15.740741\n",
      "3       female    50.000000\n",
      "        male      13.544669\n",
      "Name: Survived, dtype: float64\n"
     ]
    }
   ],
   "source": [
    "surv_num = df.groupby(['Pclass','Sex'])['Survived'].value_counts()\n",
    "print(\"Number of passengers survived and died as per Pclass and Sex\")\n",
    "print(surv_num)\n",
    "surv = df.groupby(['Pclass','Sex'])['Survived'].mean()*100\n",
    "print(\"\\nPercentage of passengers survived and died as per Pclass and Sex\")\n",
    "print(surv)"
   ]
  },
  {
   "cell_type": "markdown",
   "id": "3926cd33-f38c-4f00-b085-6e4069969e89",
   "metadata": {},
   "source": [
    "#### 12. Number of null values in each columns"
   ]
  },
  {
   "cell_type": "code",
   "execution_count": 14,
   "id": "34bbbdae-83a8-4968-829c-dac95d335053",
   "metadata": {},
   "outputs": [
    {
     "name": "stdout",
     "output_type": "stream",
     "text": [
      "PassengerId 0\n",
      "Survived 0\n",
      "Pclass 0\n",
      "Name 0\n",
      "Sex 0\n",
      "Age 177\n",
      "SibSp 0\n",
      "Parch 0\n",
      "Ticket 0\n",
      "Fare 0\n",
      "Cabin 687\n",
      "Embarked 2\n",
      "Reversed Name 0\n"
     ]
    }
   ],
   "source": [
    "l1 = (list(df.columns))\n",
    "for i in l1:\n",
    "    print(i,df[i].isnull().sum())"
   ]
  },
  {
   "cell_type": "markdown",
   "id": "4acd0e1b-89ef-431f-9b88-c6a83fe3af0c",
   "metadata": {},
   "source": [
    "#### 13. New Dataframe with Cabin and allocated passenger name detail (i.e col1: Cabin ; col2: Name)"
   ]
  },
  {
   "cell_type": "code",
   "execution_count": 15,
   "id": "ba1038e2-f52b-4fd7-a256-2669479711e2",
   "metadata": {},
   "outputs": [
    {
     "data": {
      "text/html": [
       "<div>\n",
       "<style scoped>\n",
       "    .dataframe tbody tr th:only-of-type {\n",
       "        vertical-align: middle;\n",
       "    }\n",
       "\n",
       "    .dataframe tbody tr th {\n",
       "        vertical-align: top;\n",
       "    }\n",
       "\n",
       "    .dataframe thead th {\n",
       "        text-align: right;\n",
       "    }\n",
       "</style>\n",
       "<table border=\"1\" class=\"dataframe\">\n",
       "  <thead>\n",
       "    <tr style=\"text-align: right;\">\n",
       "      <th></th>\n",
       "      <th>Cabin</th>\n",
       "      <th>Reversed Name</th>\n",
       "    </tr>\n",
       "  </thead>\n",
       "  <tbody>\n",
       "    <tr>\n",
       "      <th>1</th>\n",
       "      <td>C85</td>\n",
       "      <td>Mrs. John Bradley (Florence Briggs Thayer) Cu...</td>\n",
       "    </tr>\n",
       "    <tr>\n",
       "      <th>3</th>\n",
       "      <td>C123</td>\n",
       "      <td>Mrs. Jacques Heath (Lily May Peel) Futrelle</td>\n",
       "    </tr>\n",
       "    <tr>\n",
       "      <th>6</th>\n",
       "      <td>E46</td>\n",
       "      <td>Mr. Timothy J McCarthy</td>\n",
       "    </tr>\n",
       "    <tr>\n",
       "      <th>10</th>\n",
       "      <td>G6</td>\n",
       "      <td>Miss. Marguerite Rut Sandstrom</td>\n",
       "    </tr>\n",
       "    <tr>\n",
       "      <th>11</th>\n",
       "      <td>C103</td>\n",
       "      <td>Miss. Elizabeth Bonnell</td>\n",
       "    </tr>\n",
       "    <tr>\n",
       "      <th>...</th>\n",
       "      <td>...</td>\n",
       "      <td>...</td>\n",
       "    </tr>\n",
       "    <tr>\n",
       "      <th>871</th>\n",
       "      <td>D35</td>\n",
       "      <td>Mrs. Richard Leonard (Sallie Monypeny) Beckwith</td>\n",
       "    </tr>\n",
       "    <tr>\n",
       "      <th>872</th>\n",
       "      <td>B51 B53 B55</td>\n",
       "      <td>Mr. Frans Olof Carlsson</td>\n",
       "    </tr>\n",
       "    <tr>\n",
       "      <th>879</th>\n",
       "      <td>C50</td>\n",
       "      <td>Mrs. Thomas Jr (Lily Alexenia Wilson) Potter</td>\n",
       "    </tr>\n",
       "    <tr>\n",
       "      <th>887</th>\n",
       "      <td>B42</td>\n",
       "      <td>Miss. Margaret Edith Graham</td>\n",
       "    </tr>\n",
       "    <tr>\n",
       "      <th>889</th>\n",
       "      <td>C148</td>\n",
       "      <td>Mr. Karl Howell Behr</td>\n",
       "    </tr>\n",
       "  </tbody>\n",
       "</table>\n",
       "<p>204 rows × 2 columns</p>\n",
       "</div>"
      ],
      "text/plain": [
       "           Cabin                                      Reversed Name\n",
       "1            C85   Mrs. John Bradley (Florence Briggs Thayer) Cu...\n",
       "3           C123        Mrs. Jacques Heath (Lily May Peel) Futrelle\n",
       "6            E46                             Mr. Timothy J McCarthy\n",
       "10            G6                     Miss. Marguerite Rut Sandstrom\n",
       "11          C103                            Miss. Elizabeth Bonnell\n",
       "..           ...                                                ...\n",
       "871          D35    Mrs. Richard Leonard (Sallie Monypeny) Beckwith\n",
       "872  B51 B53 B55                            Mr. Frans Olof Carlsson\n",
       "879          C50       Mrs. Thomas Jr (Lily Alexenia Wilson) Potter\n",
       "887          B42                        Miss. Margaret Edith Graham\n",
       "889         C148                               Mr. Karl Howell Behr\n",
       "\n",
       "[204 rows x 2 columns]"
      ]
     },
     "execution_count": 15,
     "metadata": {},
     "output_type": "execute_result"
    }
   ],
   "source": [
    "df = df.dropna(axis=0, subset=['Cabin'])\n",
    "df_new = df[['Cabin','Reversed Name']]\n",
    "df_new"
   ]
  },
  {
   "cell_type": "markdown",
   "id": "4f756ba2-f0d5-4c29-9585-ae660de8b667",
   "metadata": {},
   "source": [
    "#### 14. Passengers with age below 18"
   ]
  },
  {
   "cell_type": "code",
   "execution_count": 17,
   "id": "e6ef78fb-9e1f-4ebf-bd5d-fabb33b98d69",
   "metadata": {},
   "outputs": [
    {
     "name": "stdout",
     "output_type": "stream",
     "text": [
      "Number of known age passengers below age 18 are 19 passengers\n",
      "10                        Miss. Marguerite Rut Sandstrom\n",
      "183                             Master. Richard F Becker\n",
      "193                            Master. Michel M Navratil\n",
      "205                            Miss. Telma Matilda Strom\n",
      "297                          Miss. Helen Loraine Allison\n",
      "305                        Master. Hudson Trevor Allison\n",
      "307     Mrs. Victor de Satode (Maria Josefa Perez de ...\n",
      "329                          Miss. Jean Gertrude Hippach\n",
      "340                        Master. Edmond Roger Navratil\n",
      "435                             Miss. Lucile Polk Carter\n",
      "445                             Master. Washington Dodge\n",
      "504                                 Miss. Roberta Maioni\n",
      "550                           Mr. John Borland Jr Thayer\n",
      "618                           Miss. Marion Louise Becker\n",
      "689                     Miss. Georgette Alexandra Madill\n",
      "751                                   Master. Meier Moor\n",
      "781             Mrs. Albert Adrian (Vera Gillespie) Dick\n",
      "802                   Master. William Thornton II Carter\n",
      "853                             Miss. Mary Conover Lines\n",
      "Name: Reversed Name, dtype: object\n"
     ]
    }
   ],
   "source": [
    "df.dropna(inplace=True)\n",
    "below_18 = pd.DataFrame(df.loc[(df['Age']<18) | (df['Age'].isnull())])\n",
    "\n",
    "name = below_18['Reversed Name']\n",
    "#name\n",
    "print(\"Number of known age passengers below age 18 are\", len(name),\"passengers\")\n",
    "print(name)"
   ]
  }
 ],
 "metadata": {
  "kernelspec": {
   "display_name": "Python 3 (ipykernel)",
   "language": "python",
   "name": "python3"
  },
  "language_info": {
   "codemirror_mode": {
    "name": "ipython",
    "version": 3
   },
   "file_extension": ".py",
   "mimetype": "text/x-python",
   "name": "python",
   "nbconvert_exporter": "python",
   "pygments_lexer": "ipython3",
   "version": "3.10.11"
  }
 },
 "nbformat": 4,
 "nbformat_minor": 5
}
